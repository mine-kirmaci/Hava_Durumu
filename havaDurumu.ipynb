{
 "cells": [
  {
   "cell_type": "code",
   "execution_count": 24,
   "metadata": {},
   "outputs": [
    {
     "name": "stdout",
     "output_type": "stream",
     "text": [
      "Hangi sehrin hava durumunu ogrenmek istersiniz?\n",
      "Sicaklikk: 10.020000000000039\n",
      "Nem:%82\n",
      "Ülke: TR\n",
      "Sehir bulunamadı.\n"
     ]
    }
   ],
   "source": [
    "import requests\n",
    "\n",
    "code='ca2d7a1f34b01092163fba035af2615b'\n",
    "base_url='https://api.openweathermap.org/data/2.5/weather?'\n",
    "\n",
    "print(\"Hangi sehrin hava durumunu ogrenmek istersiniz?\")\n",
    "city = input(\"Sehir: \")\n",
    "\n",
    "url=base_url+'appid='+code+'&q='+city \n",
    "\n",
    "gelen_veri=requests.get(url)\n",
    "gelen_veri_json=gelen_veri.json()\n",
    "\n",
    "\n",
    "sicaklik_kelvin=gelen_veri_json[\"main\"][\"temp\"]\n",
    "sicaklik_derece=sicaklik_kelvin-273.15\n",
    "print(\"Sicaklikk:\",sicaklik_derece)\n",
    "\n",
    "print(\"Nem:\"+\"%\"+str(gelen_veri_json[\"main\"][\"humidity\"]))\n",
    "print(\"Ülke:\",gelen_veri_json[\"sys\"][\"country\"])\n",
    "\n",
    "\n",
    "\n",
    "\n",
    "\n",
    "\n",
    "\n",
    "\n",
    "\n",
    "\n"
   ]
  },
  {
   "cell_type": "code",
   "execution_count": null,
   "metadata": {},
   "outputs": [],
   "source": [
    "\n"
   ]
  }
 ],
 "metadata": {
  "kernelspec": {
   "display_name": "Python 3.12.1",
   "language": "python",
   "name": "myenv"
  },
  "language_info": {
   "codemirror_mode": {
    "name": "ipython",
    "version": 3
   },
   "file_extension": ".py",
   "mimetype": "text/x-python",
   "name": "python",
   "nbconvert_exporter": "python",
   "pygments_lexer": "ipython3",
   "version": "3.12.1"
  }
 },
 "nbformat": 4,
 "nbformat_minor": 2
}
